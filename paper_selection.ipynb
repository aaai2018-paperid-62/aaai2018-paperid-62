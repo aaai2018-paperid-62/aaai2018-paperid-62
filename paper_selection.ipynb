{
 "cells": [
  {
   "cell_type": "markdown",
   "metadata": {},
   "source": [
    "# Sampling of papers from conferences\n",
    "\n",
    "This Jupyter notebook includes the procedure used to select a random sample from the population of accepted papers for each conference."
   ]
  },
  {
   "cell_type": "markdown",
   "metadata": {},
   "source": [
    "### Accepted conference papers\n",
    "\n",
    "Sampling of papers is based on the listing of accepted papers at the following locations:\n",
    "\n",
    "AAAI-14 http://www.aaai.org/Library/AAAI/aaai14contents.php\n",
    "\n",
    "AAAI-16 http://www.aaai.org/Library/AAAI/aaai16contents.php\n",
    "\n",
    "IJCAI-13 http://ijcai-13.org/program/accepted_papers\n",
    "\n",
    "IJCAI-16 http://ijcai-16.org/index.php/welcome/view/accepted_papers\n",
    "\n",
    "These listings were used to generate the files available in the `data/` folder. Each conference is represented by a textfile containing the papers accepted to the conference's main and special tracks. Each line in the textfiles represent a paper, including its title and the authors. Example:\n",
    "\n",
    "    Causality based Propagation History Ranking in Social Networks\tZheng Wang, Chaokun Wang, Jisheng Pei, Xiaojun Ye and Philip S. Yu  \n",
    "    Intervention Strategies for Increasing Engagement in Volunteer-Based Crowdsourcing\tAvi Segal, Kobi Gal, Ece Kamar, Eric Horvitz, Alex Bowyer and Grant Miller\n",
    "\n",
    "Papers are available through AAAI Publications for all but IJCAI-16 (at the time of writing):\n",
    "\n",
    "AAAI-14 http://www.aaai.org/ocs/index.php/AAAI/AAAI14/schedConf/presentations\n",
    "\n",
    "AAAI-16 http://www.aaai.org/ocs/index.php/AAAI/AAAI16/schedConf/presentations\n",
    "\n",
    "IJCAI-13 http://www.aaai.org/ocs/index.php/IJCAI/IJCAI13/schedConf/presentations\n",
    "\n",
    "For IJCAI-16, see the proceedings at: http://www.ijcai.org/Proceedings/2016"
   ]
  },
  {
   "cell_type": "markdown",
   "metadata": {},
   "source": [
    "First, the accepted papers are loaded from files."
   ]
  },
  {
   "cell_type": "code",
   "execution_count": 1,
   "metadata": {
    "collapsed": true
   },
   "outputs": [],
   "source": [
    "from glob import glob\n",
    "\n",
    "accepted_papers = {}\n",
    "track_files = glob('data/accepted*'.format(dir))\n",
    "for file in track_files:\n",
    "    conference = file.split('_')[-1].strip('.txt')\n",
    "    accepted_papers[conference] = []\n",
    "    with open(file, 'r') as f:\n",
    "        for line in f:\n",
    "            accepted_papers[conference].append(line)"
   ]
  },
  {
   "cell_type": "markdown",
   "metadata": {},
   "source": [
    "The resulting dictionary accepted_papers contains a list of the accepted papers for each conference."
   ]
  },
  {
   "cell_type": "code",
   "execution_count": 2,
   "metadata": {},
   "outputs": [
    {
     "name": "stdout",
     "output_type": "stream",
     "text": [
      "aaai-14 includes 398 accepted papers.\n",
      "aaai-16 includes 548 accepted papers.\n",
      "ijcai-13 includes 413 accepted papers.\n",
      "ijcai-16 includes 551 accepted papers.\n"
     ]
    }
   ],
   "source": [
    "for conference, papers in sorted(accepted_papers.items()):\n",
    "    print('{conference} includes {papers} accepted papers.'.format(\n",
    "        conference=conference, papers=len(papers)))"
   ]
  },
  {
   "cell_type": "markdown",
   "metadata": {},
   "source": [
    "### Selection\n",
    "\n",
    "A sample population of 100 papers is selected from each conference using Python's pseudo-random number module. As per the [documentation on random.sample](https://docs.python.org/3.5/library/random.html) \"_The resulting list is in selection order so that all sub-slices will also be valid random samples._\" The seed is set to the unix timestamp for Jan 10 14:46:40 2017 UTC: 1484059600."
   ]
  },
  {
   "cell_type": "code",
   "execution_count": 3,
   "metadata": {
    "collapsed": true
   },
   "outputs": [],
   "source": [
    "import random\n",
    "random.seed(1484059600)\n",
    "\n",
    "k = 100\n",
    "samples = {}\n",
    "\n",
    "# The order is set explicitly due to originally not sorting\n",
    "# accepted_papers.items().\n",
    "conferences = ['aaai-16', 'aaai-14', 'ijcai-13', 'ijcai-16']\n",
    "\n",
    "for conference in conferences:\n",
    "    samples[conference] = random.sample(accepted_papers[conference], k)"
   ]
  },
  {
   "cell_type": "markdown",
   "metadata": {},
   "source": [
    "Note that when originally generating the samples, the dictionary was iterated by the use of Python 3's [dict.items() view](https://docs.python.org/3.5/library/stdtypes.html#dict-views). The order is not guaranteed. Due to the original generation not being sorted, the iteration needs to be set explicitly so future runs generate the same original sample populations."
   ]
  },
  {
   "cell_type": "markdown",
   "metadata": {},
   "source": [
    "The generated random samples are permanently stored to files in the ../data/ directory (Github: https://github.com/sidgek/msoppgave/tree/master/data/."
   ]
  },
  {
   "cell_type": "code",
   "execution_count": 4,
   "metadata": {
    "collapsed": true
   },
   "outputs": [],
   "source": [
    "for conference, papers in samples.items():\n",
    "    outputfile = 'data/sampled_{conference}'.format(conference=conference)\n",
    "    with open(outputfile, 'w') as f:\n",
    "        for line in papers:\n",
    "            f.write(line)"
   ]
  },
  {
   "cell_type": "markdown",
   "metadata": {},
   "source": [
    "## Versions\n",
    "Here's a generated output to keep track of software versions used to run this Jupyter notebook."
   ]
  },
  {
   "cell_type": "code",
   "execution_count": 5,
   "metadata": {},
   "outputs": [
    {
     "name": "stdout",
     "output_type": "stream",
     "text": [
      "Python version: 3.5.3\n",
      "IPython version: 6.1.0\n"
     ]
    }
   ],
   "source": [
    "import IPython\n",
    "import platform\n",
    "\n",
    "print('Python version: {}'.format(platform.python_version()))\n",
    "print('IPython version: {}'.format(IPython.__version__))"
   ]
  }
 ],
 "metadata": {
  "kernelspec": {
   "display_name": "Python 3",
   "language": "python",
   "name": "python3"
  },
  "language_info": {
   "codemirror_mode": {
    "name": "ipython",
    "version": 3
   },
   "file_extension": ".py",
   "mimetype": "text/x-python",
   "name": "python",
   "nbconvert_exporter": "python",
   "pygments_lexer": "ipython3",
   "version": "3.5.3"
  }
 },
 "nbformat": 4,
 "nbformat_minor": 1
}
