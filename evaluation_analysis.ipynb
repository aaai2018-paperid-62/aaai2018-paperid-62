{
 "cells": [
  {
   "cell_type": "markdown",
   "metadata": {},
   "source": [
    "# Analysis of survey evaluations\n",
    "This Jupyter notebook examines the evaluations recorded in `data/evaluations.csv`.\n",
    "\n",
    "## The data\n",
    "We start by loading the CSV file into a [pandas DataFrame](http://pandas.pydata.org/pandas-docs/stable/generated/pandas.DataFrame.html) and print some information on the size and structure of the dataset."
   ]
  },
  {
   "cell_type": "code",
   "execution_count": 1,
   "metadata": {},
   "outputs": [
    {
     "name": "stdout",
     "output_type": "stream",
     "text": [
      "Samples per conference\n",
      "conference\n",
      "AAAI 14     100\n",
      "AAAI 16     100\n",
      "IJCAI 13    100\n",
      "IJCAI 16    100\n",
      "dtype: int64\n",
      "\n",
      "Column headers: ['title' 'research_type' 'result_outcome' 'affiliation'\n",
      " 'problem_description' 'goal/objective' 'research_method'\n",
      " 'research_question' 'hypothesis' 'prediction' 'contribution' 'pseudocode'\n",
      " 'open_source_code' 'open_experiment_code' 'train' 'validation' 'test'\n",
      " 'results' 'hardware_specification' 'software_dependencies'\n",
      " 'third_party_citation' 'experiment_setup' 'evaluation_criteria' 'authors'\n",
      " 'link' 'comments' 'conference']\n"
     ]
    }
   ],
   "source": [
    "import pandas as pd\n",
    "pd.options.mode.chained_assignment = None  # default='warn', hides SettingWithCopyWarning\n",
    "\n",
    "file = 'data/evaluations.csv'\n",
    "conversion_dict = {'research_type': lambda x: int(x == 'E')}\n",
    "evaluation_data = pd.read_csv(file, sep=',', header=0, index_col=0, converters=conversion_dict)\n",
    "\n",
    "print('Samples per conference\\n{}'.format(evaluation_data.groupby('conference').size()), end='\\n')\n",
    "\n",
    "column_headers = evaluation_data.columns.values\n",
    "print('\\nColumn headers: {}'.format(column_headers))"
   ]
  },
  {
   "cell_type": "markdown",
   "metadata": {},
   "source": [
    "The dataset has 400 samples with 27 columns. Some of these columns are not necessary for further analysis: *title*, *authors*, *link*, *comments*. Dropping these leaves us with a numerical index for each paper, the conference it was published to, and survey related data. The lambda function above converts the *research_type* data from E (experimental) and T (theoretical) to 1 and 0 respectively, making it easier to work with in pandas."
   ]
  },
  {
   "cell_type": "code",
   "execution_count": 2,
   "metadata": {},
   "outputs": [
    {
     "data": {
      "text/html": [
       "<div>\n",
       "<style>\n",
       "    .dataframe thead tr:only-child th {\n",
       "        text-align: right;\n",
       "    }\n",
       "\n",
       "    .dataframe thead th {\n",
       "        text-align: left;\n",
       "    }\n",
       "\n",
       "    .dataframe tbody tr th {\n",
       "        vertical-align: top;\n",
       "    }\n",
       "</style>\n",
       "<table border=\"1\" class=\"dataframe\">\n",
       "  <thead>\n",
       "    <tr style=\"text-align: right;\">\n",
       "      <th></th>\n",
       "      <th>research_type</th>\n",
       "      <th>result_outcome</th>\n",
       "      <th>affiliation</th>\n",
       "      <th>problem_description</th>\n",
       "      <th>goal/objective</th>\n",
       "      <th>research_method</th>\n",
       "      <th>research_question</th>\n",
       "      <th>hypothesis</th>\n",
       "      <th>prediction</th>\n",
       "      <th>contribution</th>\n",
       "      <th>...</th>\n",
       "      <th>train</th>\n",
       "      <th>validation</th>\n",
       "      <th>test</th>\n",
       "      <th>results</th>\n",
       "      <th>hardware_specification</th>\n",
       "      <th>software_dependencies</th>\n",
       "      <th>third_party_citation</th>\n",
       "      <th>experiment_setup</th>\n",
       "      <th>evaluation_criteria</th>\n",
       "      <th>conference</th>\n",
       "    </tr>\n",
       "    <tr>\n",
       "      <th>index</th>\n",
       "      <th></th>\n",
       "      <th></th>\n",
       "      <th></th>\n",
       "      <th></th>\n",
       "      <th></th>\n",
       "      <th></th>\n",
       "      <th></th>\n",
       "      <th></th>\n",
       "      <th></th>\n",
       "      <th></th>\n",
       "      <th></th>\n",
       "      <th></th>\n",
       "      <th></th>\n",
       "      <th></th>\n",
       "      <th></th>\n",
       "      <th></th>\n",
       "      <th></th>\n",
       "      <th></th>\n",
       "      <th></th>\n",
       "      <th></th>\n",
       "      <th></th>\n",
       "    </tr>\n",
       "  </thead>\n",
       "  <tbody>\n",
       "    <tr>\n",
       "      <th>1</th>\n",
       "      <td>1</td>\n",
       "      <td>1</td>\n",
       "      <td>0</td>\n",
       "      <td>1</td>\n",
       "      <td>0</td>\n",
       "      <td>0</td>\n",
       "      <td>0</td>\n",
       "      <td>0</td>\n",
       "      <td>0</td>\n",
       "      <td>1</td>\n",
       "      <td>...</td>\n",
       "      <td>1.0</td>\n",
       "      <td>1.0</td>\n",
       "      <td>0.0</td>\n",
       "      <td>0.0</td>\n",
       "      <td>0.0</td>\n",
       "      <td>0.0</td>\n",
       "      <td>0.0</td>\n",
       "      <td>1.0</td>\n",
       "      <td>1.0</td>\n",
       "      <td>IJCAI 16</td>\n",
       "    </tr>\n",
       "    <tr>\n",
       "      <th>2</th>\n",
       "      <td>0</td>\n",
       "      <td>1</td>\n",
       "      <td>0</td>\n",
       "      <td>0</td>\n",
       "      <td>0</td>\n",
       "      <td>0</td>\n",
       "      <td>0</td>\n",
       "      <td>0</td>\n",
       "      <td>0</td>\n",
       "      <td>0</td>\n",
       "      <td>...</td>\n",
       "      <td>NaN</td>\n",
       "      <td>NaN</td>\n",
       "      <td>NaN</td>\n",
       "      <td>NaN</td>\n",
       "      <td>NaN</td>\n",
       "      <td>NaN</td>\n",
       "      <td>NaN</td>\n",
       "      <td>NaN</td>\n",
       "      <td>NaN</td>\n",
       "      <td>IJCAI 16</td>\n",
       "    </tr>\n",
       "  </tbody>\n",
       "</table>\n",
       "<p>2 rows × 23 columns</p>\n",
       "</div>"
      ],
      "text/plain": [
       "       research_type  result_outcome  affiliation  problem_description  \\\n",
       "index                                                                    \n",
       "1                  1               1            0                    1   \n",
       "2                  0               1            0                    0   \n",
       "\n",
       "       goal/objective  research_method  research_question  hypothesis  \\\n",
       "index                                                                   \n",
       "1                   0                0                  0           0   \n",
       "2                   0                0                  0           0   \n",
       "\n",
       "       prediction  contribution     ...      train  validation  test  results  \\\n",
       "index                               ...                                         \n",
       "1               0             1     ...        1.0         1.0   0.0      0.0   \n",
       "2               0             0     ...        NaN         NaN   NaN      NaN   \n",
       "\n",
       "       hardware_specification  software_dependencies  third_party_citation  \\\n",
       "index                                                                        \n",
       "1                         0.0                    0.0                   0.0   \n",
       "2                         NaN                    NaN                   NaN   \n",
       "\n",
       "       experiment_setup  evaluation_criteria  conference  \n",
       "index                                                     \n",
       "1                   1.0                  1.0    IJCAI 16  \n",
       "2                   NaN                  NaN    IJCAI 16  \n",
       "\n",
       "[2 rows x 23 columns]"
      ]
     },
     "execution_count": 2,
     "metadata": {},
     "output_type": "execute_result"
    }
   ],
   "source": [
    "evaluation_data.drop(['title', 'authors', 'link', 'comments'], axis=1, inplace=True)\n",
    "column_headers = evaluation_data.columns.values\n",
    "\n",
    "evaluation_data.head(2)"
   ]
  },
  {
   "cell_type": "markdown",
   "metadata": {},
   "source": [
    "The above two rows exemplify an experimental (top row) and a theoretical (bottom row) paper. Values with a NaN value appear for theoretical papers for all columns that are specific to experimental papers. For the *affiliation* column, 0 represents academia, 1 represents collaboration and 2 represents industry authors. The remaining columns are boolean, 1 if documented and 0 if not. Note that some experimental papers have no value (NaN) for training and/or validation data if a train/validation/test split is not applicable."
   ]
  },
  {
   "cell_type": "markdown",
   "metadata": {},
   "source": [
    "## Miscellaneous statistics"
   ]
  },
  {
   "cell_type": "code",
   "execution_count": 3,
   "metadata": {},
   "outputs": [
    {
     "name": "stdout",
     "output_type": "stream",
     "text": [
      "Samples per affiliation\n",
      "affiliation\n",
      "0    331\n",
      "1     58\n",
      "2     11\n",
      "dtype: int64\n",
      "\n",
      "Affiliation by conference\n",
      "conference  affiliation\n",
      "AAAI 14     0              83\n",
      "            1              14\n",
      "            2               3\n",
      "AAAI 16     0              79\n",
      "            1              17\n",
      "            2               4\n",
      "IJCAI 13    0              89\n",
      "            1              11\n",
      "IJCAI 16    0              80\n",
      "            1              16\n",
      "            2               4\n",
      "dtype: int64\n",
      "\n",
      "Samples per research type\n",
      "research_type\n",
      "0     75\n",
      "1    325\n",
      "dtype: int64\n",
      "\n",
      "Research type by conference\n",
      "conference  research_type\n",
      "AAAI 14     0                15\n",
      "            1                85\n",
      "AAAI 16     0                15\n",
      "            1                85\n",
      "IJCAI 13    0                29\n",
      "            1                71\n",
      "IJCAI 16    0                16\n",
      "            1                84\n",
      "dtype: int64\n",
      "\n",
      "Samples per research outcome\n",
      "result_outcome\n",
      "0     23\n",
      "1    377\n",
      "dtype: int64\n",
      "\n",
      "Research outcome by conference\n",
      "conference  result_outcome\n",
      "AAAI 14     0                   5\n",
      "            1                  95\n",
      "AAAI 16     0                   8\n",
      "            1                  92\n",
      "IJCAI 13    0                  10\n",
      "            1                  90\n",
      "IJCAI 16    1                 100\n",
      "dtype: int64\n",
      "\n"
     ]
    }
   ],
   "source": [
    "print('Samples per affiliation\\n{}'.format(evaluation_data.groupby('affiliation').size()), end='\\n\\n')\n",
    "print('Affiliation by conference\\n{}'.format(evaluation_data.groupby(['conference', 'affiliation']).size()), end='\\n\\n')\n",
    "\n",
    "print('Samples per research type\\n{}'.format(evaluation_data.groupby('research_type').size()), end='\\n\\n')\n",
    "print('Research type by conference\\n{}'.format(evaluation_data.groupby(['conference', 'research_type']).size()), end='\\n\\n')\n",
    "\n",
    "print('Samples per research outcome\\n{}'.format(evaluation_data.groupby('result_outcome').size()), end='\\n\\n')\n",
    "print('Research outcome by conference\\n{}'.format(evaluation_data.groupby(['conference', 'result_outcome']).size()), end='\\n\\n')\n"
   ]
  },
  {
   "cell_type": "markdown",
   "metadata": {},
   "source": [
    "## Extracting experimental papers\n",
    "Analysis of the reproducibility is relevant for experimental papers, as such we will filter out the experimental papers."
   ]
  },
  {
   "cell_type": "code",
   "execution_count": 4,
   "metadata": {
    "collapsed": true
   },
   "outputs": [],
   "source": [
    "experimental_data = evaluation_data[evaluation_data.research_type == 1]"
   ]
  },
  {
   "cell_type": "markdown",
   "metadata": {},
   "source": [
    "## $R3(e) = Method(e)$"
   ]
  },
  {
   "cell_type": "code",
   "execution_count": 5,
   "metadata": {
    "scrolled": false
   },
   "outputs": [
    {
     "name": "stdout",
     "output_type": "stream",
     "text": [
      "Total R3(e) = 0\n",
      "\n",
      "R3(e) by conference\n",
      "conference\n",
      "AAAI 14     False\n",
      "AAAI 16     False\n",
      "IJCAI 13    False\n",
      "IJCAI 16    False\n",
      "Name: r3, dtype: bool\n",
      "\n",
      "Total R3D(e) = 0.2964102564102564\n",
      "\n",
      "R3d(e) by conference\n",
      "conference\n",
      "AAAI 14     0.307843\n",
      "AAAI 16     0.274510\n",
      "IJCAI 13    0.265258\n",
      "IJCAI 16    0.333333\n",
      "Name: r3d, dtype: float64\n",
      "\n"
     ]
    }
   ],
   "source": [
    "method = ['conference','problem_description','goal/objective','research_method',\n",
    "        'research_question','contribution','pseudocode']\n",
    "r3_columns = method\n",
    "\n",
    "print('Total R3(e) = {}'.format(experimental_data[r3_columns].all(axis=1).sum()))\n",
    "experimental_data.loc[:, 'r3'] = experimental_data[r3_columns].all(axis=1)\n",
    "print('\\nR3(e) by conference\\n{}\\n'.format(\n",
    "    experimental_data[['r3', 'conference']].groupby('conference').sum()['r3']))\n",
    "\n",
    "print('Total R3D(e) = {}'.format(experimental_data[r3_columns].mean(axis=1).mean()))\n",
    "experimental_data.loc[:, 'r3d'] = experimental_data[r3_columns].mean(axis=1)\n",
    "print('\\nR3d(e) by conference\\n{}\\n'.format(\n",
    "    experimental_data[['r3d', 'conference']].groupby('conference').mean()['r3d']))"
   ]
  },
  {
   "cell_type": "markdown",
   "metadata": {},
   "source": [
    "## $R2(e) = Method(e) \\land Data(e)$"
   ]
  },
  {
   "cell_type": "code",
   "execution_count": 6,
   "metadata": {},
   "outputs": [
    {
     "name": "stdout",
     "output_type": "stream",
     "text": [
      "Total Data(e) = 9\n",
      "Data(e) by conference\n",
      "conference\n",
      "AAAI 14     2.0\n",
      "AAAI 16     1.0\n",
      "IJCAI 13    0.0\n",
      "IJCAI 16    6.0\n",
      "Name: data, dtype: float64\n",
      "\n",
      "Total DataDegree(e) = 0.2287179487179487\n",
      "DataDegree(e) by conference\n",
      "conference\n",
      "AAAI 14     0.202941\n",
      "AAAI 16     0.261765\n",
      "IJCAI 13    0.131455\n",
      "IJCAI 16    0.303571\n",
      "Name: dataD, dtype: float64\n",
      "\n",
      "Total R2(e) = 0\n",
      "\n",
      "R2(e) by conference\n",
      "conference\n",
      "AAAI 14     False\n",
      "AAAI 16     False\n",
      "IJCAI 13    False\n",
      "IJCAI 16    False\n",
      "Name: r2, dtype: bool\n",
      "\n",
      "Total R2D(e) = 0.277\n",
      "\n",
      "R2d(e) by conference\n",
      "conference\n",
      "AAAI 14     0.275948\n",
      "AAAI 16     0.272353\n",
      "IJCAI 13    0.228991\n",
      "IJCAI 16    0.323347\n",
      "Name: r2d, dtype: float64\n",
      "\n"
     ]
    }
   ],
   "source": [
    "data = ['train', 'validation', 'test', 'results']\n",
    "r2_columns = r3_columns + data\n",
    "\n",
    "print('Total Data(e) = {}'.format(experimental_data[data].all(axis=1).sum()))\n",
    "experimental_data.loc[:, 'data'] = experimental_data[data].all(axis=1)\n",
    "print('Data(e) by conference\\n{}\\n'.format(\n",
    "    experimental_data[['data', 'conference']].groupby('conference').sum()['data']))\n",
    "\n",
    "print('Total DataDegree(e) = {}'.format(experimental_data[data].mean(axis=1).mean()))\n",
    "experimental_data.loc[:, 'dataD'] = experimental_data[data].mean(axis=1)\n",
    "print('DataDegree(e) by conference\\n{}\\n'.format(\n",
    "    experimental_data[['dataD', 'conference']].groupby('conference').mean()['dataD']))\n",
    "\n",
    "print('Total R2(e) = {}'.format(experimental_data[r2_columns].all(axis=1).sum()))\n",
    "experimental_data.loc[:, 'r2'] = experimental_data[r2_columns].all(axis=1)\n",
    "print('\\nR2(e) by conference\\n{}\\n'.format(\n",
    "    experimental_data[['r2', 'conference']].groupby('conference').sum()['r2']))\n",
    "\n",
    "print('Total R2D(e) = {}'.format(experimental_data[r2_columns].mean(axis=1).mean()))\n",
    "experimental_data.loc[:, 'r2d'] = experimental_data[r2_columns].mean(axis=1)\n",
    "print('\\nR2d(e) by conference\\n{}\\n'.format(\n",
    "    experimental_data[['r2d', 'conference']].groupby('conference').mean()['r2d']))"
   ]
  },
  {
   "cell_type": "markdown",
   "metadata": {},
   "source": [
    "## $R1(e) = Method(e) \\land Data(e) \\land Exp(e)$"
   ]
  },
  {
   "cell_type": "code",
   "execution_count": 7,
   "metadata": {},
   "outputs": [
    {
     "name": "stdout",
     "output_type": "stream",
     "text": [
      "Total Exp(e) = 0\n",
      "Exp(e) by conference\n",
      "conference\n",
      "AAAI 14     False\n",
      "AAAI 16     False\n",
      "IJCAI 13    False\n",
      "IJCAI 16    False\n",
      "Name: exp, dtype: bool\n",
      "\n",
      "Total ExpDegree(e) = 0.22346153846153846\n",
      "ExpDegree(e) by conference\n",
      "conference\n",
      "AAAI 14     0.172059\n",
      "AAAI 16     0.214706\n",
      "IJCAI 13    0.197183\n",
      "IJCAI 16    0.306548\n",
      "Name: expD, dtype: float64\n",
      "\n",
      "Total R1(e) = 0\n",
      "\n",
      "R1(e) by conference\n",
      "conference\n",
      "AAAI 14     False\n",
      "AAAI 16     False\n",
      "IJCAI 13    False\n",
      "IJCAI 16    False\n",
      "Name: r1, dtype: bool\n",
      "\n",
      "Total R1D(e) = 0.2519884364002011\n",
      "\n",
      "R1d(e) by conference\n",
      "conference\n",
      "AAAI 14     0.227028\n",
      "AAAI 16     0.245997\n",
      "IJCAI 13    0.213552\n",
      "IJCAI 16    0.315797\n",
      "Name: r1d, dtype: float64\n",
      "\n"
     ]
    }
   ],
   "source": [
    "experiment = ['hypothesis', 'prediction',\n",
    "        'open_source_code', 'open_experiment_code',\n",
    "        'hardware_specification', 'software_dependencies',\n",
    "        'experiment_setup', 'evaluation_criteria']\n",
    "r1_columns = r2_columns + experiment\n",
    "\n",
    "print('Total Exp(e) = {}'.format(experimental_data[experiment].all(axis=1).sum()))\n",
    "experimental_data.loc[:, 'exp'] = experimental_data[experiment].all(axis=1)\n",
    "print('Exp(e) by conference\\n{}\\n'.format(\n",
    "    experimental_data[['exp', 'conference']].groupby('conference').sum()['exp']))\n",
    "\n",
    "print('Total ExpDegree(e) = {}'.format(experimental_data[experiment].mean(axis=1).mean()))\n",
    "experimental_data.loc[:, 'expD'] = experimental_data[experiment].mean(axis=1)\n",
    "print('ExpDegree(e) by conference\\n{}\\n'.format(\n",
    "    experimental_data[['expD', 'conference']].groupby('conference').mean()['expD']))\n",
    "\n",
    "print('Total R1(e) = {}'.format(experimental_data[r1_columns].all(axis=1).sum()))\n",
    "experimental_data.loc[:, 'r1'] = experimental_data[r1_columns].all(axis=1)\n",
    "print('\\nR1(e) by conference\\n{}\\n'.format(\n",
    "    experimental_data[['r1', 'conference']].groupby('conference').sum()['r1']))\n",
    "\n",
    "print('Total R1D(e) = {}'.format(experimental_data[r1_columns].mean(axis=1).mean()))\n",
    "experimental_data.loc[:, 'r1d'] = experimental_data[r1_columns].mean(axis=1)\n",
    "print('\\nR1d(e) by conference\\n{}\\n'.format(\n",
    "    experimental_data[['r1d', 'conference']].groupby('conference').mean()['r1d']))"
   ]
  },
  {
   "cell_type": "markdown",
   "metadata": {},
   "source": [
    "## Versions\n",
    "Here's a generated output to keep track of software versions used to run this Jupyter notebook."
   ]
  },
  {
   "cell_type": "code",
   "execution_count": 8,
   "metadata": {},
   "outputs": [
    {
     "name": "stdout",
     "output_type": "stream",
     "text": [
      "Python version: 3.5.3\n",
      "IPython version: 6.1.0\n",
      "pandas version: 0.20.3\n"
     ]
    }
   ],
   "source": [
    "import IPython\n",
    "import platform\n",
    "\n",
    "print('Python version: {}'.format(platform.python_version()))\n",
    "print('IPython version: {}'.format(IPython.__version__))\n",
    "print('pandas version: {}'.format(pd.__version__))"
   ]
  }
 ],
 "metadata": {
  "kernelspec": {
   "display_name": "Python 3",
   "language": "python",
   "name": "python3"
  },
  "language_info": {
   "codemirror_mode": {
    "name": "ipython",
    "version": 3
   },
   "file_extension": ".py",
   "mimetype": "text/x-python",
   "name": "python",
   "nbconvert_exporter": "python",
   "pygments_lexer": "ipython3",
   "version": "3.5.3"
  }
 },
 "nbformat": 4,
 "nbformat_minor": 2
}
